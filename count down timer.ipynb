{
 "cells": [
  {
   "cell_type": "code",
   "execution_count": 1,
   "id": "440c9f40",
   "metadata": {},
   "outputs": [
    {
     "name": "stdout",
     "output_type": "stream",
     "text": [
      "Countdown complete!\n"
     ]
    }
   ],
   "source": [
    "import time\n",
    "\n",
    "def countdown_timer(duration):\n",
    "    start_time = time.time()\n",
    "    end_time = start_time + duration\n",
    "    \n",
    "    while time.time() < end_time:\n",
    "        remaining_time = end_time - time.time()\n",
    "        minutes = int(remaining_time // 60)\n",
    "        seconds = int(remaining_time % 60)\n",
    "        \n",
    "        timer_display = f\"{minutes:02d}:{seconds:02d}\"\n",
    "        print(timer_display, end=\"\\r\", flush=True)\n",
    "        time.sleep(15)# gap in switching time\n",
    "    \n",
    "    print(\"Countdown complete!\")\n",
    "\n",
    "# Example usage: countdown_timer for 5 minutes\n",
    "countdown_timer(1 * 60)\n"
   ]
  },
  {
   "cell_type": "code",
   "execution_count": null,
   "id": "abff275d",
   "metadata": {},
   "outputs": [],
   "source": []
  }
 ],
 "metadata": {
  "kernelspec": {
   "display_name": "Python 3",
   "language": "python",
   "name": "python3"
  },
  "language_info": {
   "codemirror_mode": {
    "name": "ipython",
    "version": 3
   },
   "file_extension": ".py",
   "mimetype": "text/x-python",
   "name": "python",
   "nbconvert_exporter": "python",
   "pygments_lexer": "ipython3",
   "version": "3.8.8"
  }
 },
 "nbformat": 4,
 "nbformat_minor": 5
}
